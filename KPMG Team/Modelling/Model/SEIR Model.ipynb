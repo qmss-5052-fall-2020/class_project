{
 "cells": [
  {
   "cell_type": "markdown",
   "metadata": {},
   "source": [
    "# SEIR Model"
   ]
  },
  {
   "cell_type": "code",
   "execution_count": 1,
   "metadata": {},
   "outputs": [],
   "source": [
    "import pandas as pd\n",
    "import numpy as np\n",
    "import matplotlib.pyplot as plt\n",
    "import matplotlib.dates as mdates\n",
    "from scipy.integrate import odeint\n",
    "from lmfit.lineshapes import gaussian, lorentzian\n",
    "import lmfit\n",
    "import datetime as dt"
   ]
  },
  {
   "cell_type": "code",
   "execution_count": 2,
   "metadata": {},
   "outputs": [],
   "source": [
    "# SEIR(D) - Susceptible Exposed Infected Recovered Dead\n",
    "# y = conditions vector\n",
    "# t = time space\n",
    "# N = population\n",
    "# beta = expected number of people an infected person infects per day\n",
    "# gamma = proportion of infected recovering per day\n",
    "# delta = incubation period\n",
    "# alpha = death rate\n",
    "# rho = days from infection until death    \n",
    "\n",
    "# establishing equations\n",
    "def deriv(y, t, N, beta, gamma, delta, alpha, rho):\n",
    "    S, E, I, R, D = y\n",
    "    dSdt = -beta * S * I / N\n",
    "    dEdt = beta * S * I / N - delta * E\n",
    "    dIdt = delta * E - (1 - alpha) * gamma * I - alpha * rho * I\n",
    "    dRdt = (1 - alpha) * gamma * I\n",
    "    dDdt = alpha * rho * I\n",
    "    return dSdt, dEdt, dIdt, dRdt, dDdt\n",
    "\n",
    "# dummy parameters. somewhat random values, do not use\n",
    "# N = 1000000\n",
    "# gamma = 1.0/ 4.0\n",
    "# delta = 1.0 / 5.0\n",
    "# beta = 5.0/4.0\n",
    "# alpha = 0.02\n",
    "# rho = 1/22\n",
    "# S0, E0, I0, R0, D0, = N-1, 1, 0, 0, 0\n",
    "\n",
    "# t = np.linspace(0, 99, 100)\n",
    "# y0 = S0, E0, I0, R0, D0\n",
    "\n",
    "# integrating equations over time grid, t\n",
    "# ret = odeint(deriv, y0, t, args = (N, beta, gamma, delta, alpha, rho))\n",
    "# df = pd.DataFrame(ret, columns = ['Susceptible', 'Exposed', 'Infected', 'Recovered', 'Dead'])"
   ]
  },
  {
   "cell_type": "code",
   "execution_count": 20,
   "metadata": {},
   "outputs": [],
   "source": [
    "# create SEIR function. input given parameters and will output S, E, I, R, D over given timespace\n",
    "def SEIR(days, N, beta, gamma, delta, alpha, rho):\n",
    "    \n",
    "    t = np.linspace(0, days-1, days) # creating grid of time points\n",
    "    y0 = N-1, 1, 0, 0, 0 # initial state vector (S, E, I, R, D). assumes entire population susceptible. begins with 1 exposed\n",
    "    \n",
    "    # establishing equations\n",
    "    def deriv(y, t, N, beta, gamma, delta, alpha, rho):\n",
    "        S, E, I, R, D = y\n",
    "        dSdt = -beta * S * I / N\n",
    "        dEdt = beta * S * I / N - delta * E\n",
    "        dIdt = delta * E - (1 - alpha) * gamma * I - alpha * rho * I\n",
    "        dRdt = (1 - alpha) * gamma * I\n",
    "        dDdt = alpha * rho * I\n",
    "        return dSdt, dEdt, dIdt, dRdt, dDdt\n",
    "\n",
    "    # integrating equations over time grid, t\n",
    "    ret = odeint(deriv, y0, t, args = (N, beta, gamma, delta, alpha, rho))\n",
    "    S, E, I, R, D = ret.T\n",
    "    \n",
    "    # in case we want to output a df\n",
    "    # df = pd.DataFrame(ret, columns = ['Susceptible', 'Exposed', 'Infected', 'Recovered', 'Dead'])\n",
    "    # df.reset_index(inplace=True)\n",
    "    # df = df.rename(columns = {'index':'Day'})\n",
    "    \n",
    "    return t, S, E, I, R, D"
   ]
  },
  {
   "cell_type": "markdown",
   "metadata": {},
   "source": [
    "# Parameter Estimation"
   ]
  },
  {
   "cell_type": "code",
   "execution_count": 4,
   "metadata": {},
   "outputs": [
    {
     "data": {
      "text/html": [
       "<div>\n",
       "<style scoped>\n",
       "    .dataframe tbody tr th:only-of-type {\n",
       "        vertical-align: middle;\n",
       "    }\n",
       "\n",
       "    .dataframe tbody tr th {\n",
       "        vertical-align: top;\n",
       "    }\n",
       "\n",
       "    .dataframe thead th {\n",
       "        text-align: right;\n",
       "    }\n",
       "</style>\n",
       "<table border=\"1\" class=\"dataframe\">\n",
       "  <thead>\n",
       "    <tr style=\"text-align: right;\">\n",
       "      <th></th>\n",
       "      <th>Unnamed: 0</th>\n",
       "      <th>Date</th>\n",
       "      <th>Province/State</th>\n",
       "      <th>Confirmed</th>\n",
       "      <th>Deaths</th>\n",
       "      <th>new_confirmed</th>\n",
       "      <th>new_deaths</th>\n",
       "      <th>new_confirmed_avg</th>\n",
       "      <th>new_deaths_avg</th>\n",
       "      <th>Population</th>\n",
       "    </tr>\n",
       "  </thead>\n",
       "  <tbody>\n",
       "    <tr>\n",
       "      <th>8873</th>\n",
       "      <td>8873</td>\n",
       "      <td>2020-03-03</td>\n",
       "      <td>New York</td>\n",
       "      <td>1</td>\n",
       "      <td>0</td>\n",
       "      <td>1</td>\n",
       "      <td>0</td>\n",
       "      <td>0.142857</td>\n",
       "      <td>0.0</td>\n",
       "      <td>19378102</td>\n",
       "    </tr>\n",
       "    <tr>\n",
       "      <th>8874</th>\n",
       "      <td>8874</td>\n",
       "      <td>2020-03-04</td>\n",
       "      <td>New York</td>\n",
       "      <td>10</td>\n",
       "      <td>0</td>\n",
       "      <td>9</td>\n",
       "      <td>0</td>\n",
       "      <td>1.428571</td>\n",
       "      <td>0.0</td>\n",
       "      <td>19378102</td>\n",
       "    </tr>\n",
       "    <tr>\n",
       "      <th>8875</th>\n",
       "      <td>8875</td>\n",
       "      <td>2020-03-05</td>\n",
       "      <td>New York</td>\n",
       "      <td>21</td>\n",
       "      <td>0</td>\n",
       "      <td>11</td>\n",
       "      <td>0</td>\n",
       "      <td>3.000000</td>\n",
       "      <td>0.0</td>\n",
       "      <td>19378102</td>\n",
       "    </tr>\n",
       "    <tr>\n",
       "      <th>8876</th>\n",
       "      <td>8876</td>\n",
       "      <td>2020-03-06</td>\n",
       "      <td>New York</td>\n",
       "      <td>24</td>\n",
       "      <td>0</td>\n",
       "      <td>3</td>\n",
       "      <td>0</td>\n",
       "      <td>3.428571</td>\n",
       "      <td>0.0</td>\n",
       "      <td>19378102</td>\n",
       "    </tr>\n",
       "    <tr>\n",
       "      <th>8877</th>\n",
       "      <td>8877</td>\n",
       "      <td>2020-03-07</td>\n",
       "      <td>New York</td>\n",
       "      <td>76</td>\n",
       "      <td>0</td>\n",
       "      <td>52</td>\n",
       "      <td>0</td>\n",
       "      <td>10.857143</td>\n",
       "      <td>0.0</td>\n",
       "      <td>19378102</td>\n",
       "    </tr>\n",
       "  </tbody>\n",
       "</table>\n",
       "</div>"
      ],
      "text/plain": [
       "      Unnamed: 0       Date Province/State  Confirmed  Deaths  new_confirmed  \\\n",
       "8873        8873 2020-03-03       New York          1       0              1   \n",
       "8874        8874 2020-03-04       New York         10       0              9   \n",
       "8875        8875 2020-03-05       New York         21       0             11   \n",
       "8876        8876 2020-03-06       New York         24       0              3   \n",
       "8877        8877 2020-03-07       New York         76       0             52   \n",
       "\n",
       "      new_deaths  new_confirmed_avg  new_deaths_avg  Population  \n",
       "8873           0           0.142857             0.0    19378102  \n",
       "8874           0           1.428571             0.0    19378102  \n",
       "8875           0           3.000000             0.0    19378102  \n",
       "8876           0           3.428571             0.0    19378102  \n",
       "8877           0          10.857143             0.0    19378102  "
      ]
     },
     "execution_count": 4,
     "metadata": {},
     "output_type": "execute_result"
    }
   ],
   "source": [
    "# quick data cleaning. replace when cleaned df ready\n",
    "df = pd.read_csv('ny.csv') # load data\n",
    "df['Date'] = df['Date'].apply(lambda x: dt.datetime.strptime(x, '%Y-%m-%d')) # ensure date column correctly formatted\n",
    "df = df[(df['Province/State'] == 'New York')] # filter to NY only, for testing\n",
    "df['Population'] = 19378102 # add column containing population info for NY. NOTE: when data is fully cleaned this column will already be in df\n",
    "df = df[df['Confirmed']>=1] # filter df to begin when the first case occurred\n",
    "\n",
    "df.head()"
   ]
  },
  {
   "cell_type": "code",
   "execution_count": 5,
   "metadata": {},
   "outputs": [],
   "source": [
    "# TO DO:\n",
    "# priority\n",
    "# make function work with cleaned df\n",
    "# double check function is working properly\n",
    "# determine best *current* parameter values to use for projections moving forward\n",
    "\n",
    "# longer term\n",
    "# change function to generate best values for every state and return df\n",
    "# add outbreak shift (input parameter to guess when first true case was)\n",
    "# updated fixed COVID parameters\n",
    "# update parameter range, change search method\n",
    "\n",
    "# function will take cleaned df generate best beta and gamme values for a given state's epidemic curve\n",
    "def get_best_params(df, state):\n",
    "    \n",
    "    # filtering df\n",
    "    df = df[(df['Province/State'] == state)] # filter to given input state\n",
    "    df = df[df['Confirmed']>=1] # filter df to begin when the first case occurred. assumption should be changed for the future\n",
    "    \n",
    "    # parameters based on input df\n",
    "    days = len(df) # length of outbreak\n",
    "    N = df['Population'].iloc[1] # population\n",
    "    y0 = N-1, 1, 0, 0, 0\n",
    "\n",
    "    # fixed covid parameters - update in the future\n",
    "    rho = 1.0/15.0 # 15 days from infection to death, on average. from https://doi.org/10.3390/jcm9020538\n",
    "    alpha = .0139 # 1.39 death rate. from https://www.medrxiv.org/content/10.1101/2020.06.27.20141689v2\n",
    "    delta = 1.0/3.0 # incubation period. most studies show a min incubation period of 2 days, with a mean between 3-7. YYG simulator uses 2\n",
    "\n",
    "    # data from df\n",
    "    y_data = df['Confirmed'] # case counts\n",
    "    #y_data = df['Deaths'] # can also fit based on deaths\n",
    "    t_data = np.linspace(0, days - 1, days, dtype=int) # time vector based on days in df\n",
    "\n",
    "    # fitter function\n",
    "    def fitter(x, beta, gamma):\n",
    "        ret = SEIR(days, N, beta, gamma, rho = 1.0/15.0, alpha = .0139, delta = 1.0/3.0)\n",
    "        return ret[3][x] # return infections at time x\n",
    "        # return ret[5][x] # return deaths at time x, if fitting to deaths\n",
    "\n",
    "    mod = lmfit.Model(fitter) # initialize model\n",
    "    params_init_min_max = {\"beta\": (1.0, .05, 2.0), \"gamma\": (1/12, 1/4, 1/24)} # set parameter range\n",
    "    for kwarg, (init, mini, maxi) in params_init_min_max.items():\n",
    "        mod.set_param_hint(str(kwarg), value=init, min=mini, max=maxi, vary=True) # search through parameters\n",
    "    params = mod.make_params()\n",
    "    fit_method = \"leastsq\"\n",
    "\n",
    "    result = mod.fit(y_data, params, method=\"least_squares\", x = t_data)\n",
    "    return result.best_values"
   ]
  },
  {
   "cell_type": "code",
   "execution_count": 6,
   "metadata": {},
   "outputs": [
    {
     "data": {
      "text/plain": [
       "{'beta': 0.3924586961315347, 'gamma': 0.24999999999999997}"
      ]
     },
     "execution_count": 6,
     "metadata": {},
     "output_type": "execute_result"
    }
   ],
   "source": [
    "get_best_params(df, 'New York')"
   ]
  },
  {
   "cell_type": "markdown",
   "metadata": {},
   "source": [
    "# Generate Projections"
   ]
  },
  {
   "cell_type": "code",
   "execution_count": null,
   "metadata": {},
   "outputs": [],
   "source": [
    "# TO DO:\n",
    "# generate \"starting\" vector for a given point in time based on the known information\n",
    "\n",
    "y0 = S, E, I, R, D\n",
    "S = N - E, I, R, D\n",
    "E = ??\n",
    "I = df['Confirmed']\n",
    "R = ??\n",
    "D = df['Deaths']"
   ]
  },
  {
   "cell_type": "code",
   "execution_count": null,
   "metadata": {},
   "outputs": [],
   "source": [
    "# plot function\n",
    "def plotSEIR(t, S, E, I, R, D):\n",
    "  f, ax = plt.subplots(1,1,figsize=(10,4))\n",
    "  ax.plot(t, S, 'b', alpha=0.7, linewidth=2, label='Susceptible')\n",
    "  ax.plot(t, I, 'y', alpha=0.7, linewidth=2, label='Infected')\n",
    "  ax.plot(t, R, 'g', alpha=0.7, linewidth=2, label='Recovered')\n",
    "  ax.plot(t, E, 'goldenrod', alpha=0.7, linewidth=2, label='Exposed')\n",
    "  ax.plot(t, D, 'r', alpha=0.7, linewidth=2, label='Dead')\n",
    "\n",
    "  ax.set_xlabel('Time (days)')\n",
    "\n",
    "  ax.yaxis.set_tick_params(length=0)\n",
    "  ax.xaxis.set_tick_params(length=0)\n",
    "  ax.grid(b=True, which='major', c='w', lw=2, ls='-')\n",
    "  legend = ax.legend()\n",
    "  legend.get_frame().set_alpha(0.5)\n",
    "  for spine in ('top', 'right', 'bottom', 'left'):\n",
    "      ax.spines[spine].set_visible(False)\n",
    "  plt.show()"
   ]
  },
  {
   "cell_type": "code",
   "execution_count": 21,
   "metadata": {},
   "outputs": [
    {
     "data": {
      "image/png": "[encoded data removed]",
      "text/plain": [
       "<Figure size 720x288 with 1 Axes>"
      ]
     },
     "metadata": {
      "needs_background": "light"
     },
     "output_type": "display_data"
    }
   ],
   "source": [
    "# current \"projection\" for NY - obviously way off\n",
    "t, S, E, I, R, D = SEIR(days = 364, N = 19378102, beta = 0.3924586961315347, gamma = 0.24999999999999997, rho = 1.0/15.0, alpha = .0139, delta = 1.0/3.0)\n",
    "\n",
    "plotSEIR(t, S, E, I, R, D)"
   ]
  }
 ],
 "metadata": {
  "kernelspec": {
   "display_name": "Python 3",
   "language": "python",
   "name": "python3"
  },
  "language_info": {
   "codemirror_mode": {
    "name": "ipython",
    "version": 3
   },
   "file_extension": ".py",
   "mimetype": "text/x-python",
   "name": "python",
   "nbconvert_exporter": "python",
   "pygments_lexer": "ipython3",
   "version": "3.7.3"
  }
 },
 "nbformat": 4,
 "nbformat_minor": 2
}
