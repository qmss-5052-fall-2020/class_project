{
 "cells": [
  {
   "cell_type": "markdown",
   "source": [
    "# Data Cleaning for KPMG COVID-19 Projection Model\n",
    "\n",
    "### Datasets used:\n",
    "* Data 1: JHU COVID-19 US (county level)\n",
    "* Data 2: Oxford policy data (state level)\n",
    "* Data 3: US Census demographic/population -ACS estimate (county level)\n",
    "* Data 4: Hospital beds, esri [link](https://coronavirus-resources.esri.com/datasets/1044bb19da8d4dbfb6a96eb1b4ebf629_0/data) (county level)"
   ],
   "metadata": {
    "collapsed": false
   }
  },
  {
   "cell_type": "code",
   "execution_count": 1,
   "outputs": [],
   "source": [
    "# load packages\n",
    "import pandas as pd\n",
    "import numpy as np\n",
    "import re\n",
    "import os\n",
    "import datetime as dt\n"
   ],
   "metadata": {
    "collapsed": false,
    "pycharm": {
     "name": "#%%\n",
     "is_executing": false
    }
   }
  },
  {
   "cell_type": "markdown",
   "source": [
    "# 1. JHU COVID-19 USA"
   ],
   "metadata": {
    "collapsed": false
   }
  },
  {
   "cell_type": "code",
   "source": [
    "raw_cases_us = pd.read_csv(\"https://raw.githubusercontent.com/CSSEGISandData/COVID-19/master/csse_covid_19_data/csse_covid_19_time_series/time_series_covid19_confirmed_US.csv\")\n",
    "raw_deaths_us = pd.read_csv(\"https://raw.githubusercontent.com/CSSEGISandData/COVID-19/master/csse_covid_19_data/csse_covid_19_time_series/time_series_covid19_deaths_US.csv\")\n",
    "\n",
    "raw_cases_us.head()"
   ],
   "metadata": {
    "collapsed": false,
    "pycharm": {
     "name": "#%%\n",
     "is_executing": false
    }
   },
   "execution_count": 2,
   "outputs": [
    {
     "data": {
      "text/plain": "        UID iso2 iso3  code3    FIPS   Admin2 Province_State Country_Region  \\\n0  84001001   US  USA    840  1001.0  Autauga        Alabama             US   \n1  84001003   US  USA    840  1003.0  Baldwin        Alabama             US   \n2  84001005   US  USA    840  1005.0  Barbour        Alabama             US   \n3  84001007   US  USA    840  1007.0     Bibb        Alabama             US   \n4  84001009   US  USA    840  1009.0   Blount        Alabama             US   \n\n         Lat      Long_  ... 11/2/20  11/3/20  11/4/20  11/5/20  11/6/20  \\\n0  32.539527 -86.644082  ...    2186     2197     2212     2230     2242   \n1  30.727750 -87.722071  ...    6985     6995     7061     7097     7134   \n2  31.868263 -85.387129  ...    1065     1074     1079     1080     1090   \n3  32.996421 -87.125115  ...     883      890      897      907      917   \n4  33.982109 -86.567906  ...    2108     2162     2188     2222     2253   \n\n   11/7/20  11/8/20  11/9/20  11/10/20  11/11/20  \n0     2267     2283     2304      2328      2351  \n1     7188     7226     7263      7348      7409  \n2     1092     1095     1098      1107      1112  \n3      924      926      932       948       961  \n4     2286     2297     2335      2378      2400  \n\n[5 rows x 306 columns]",
      "text/html": "<div>\n<style scoped>\n    .dataframe tbody tr th:only-of-type {\n        vertical-align: middle;\n    }\n\n    .dataframe tbody tr th {\n        vertical-align: top;\n    }\n\n    .dataframe thead th {\n        text-align: right;\n    }\n</style>\n<table border=\"1\" class=\"dataframe\">\n  <thead>\n    <tr style=\"text-align: right;\">\n      <th></th>\n      <th>UID</th>\n      <th>iso2</th>\n      <th>iso3</th>\n      <th>code3</th>\n      <th>FIPS</th>\n      <th>Admin2</th>\n      <th>Province_State</th>\n      <th>Country_Region</th>\n      <th>Lat</th>\n      <th>Long_</th>\n      <th>...</th>\n      <th>11/2/20</th>\n      <th>11/3/20</th>\n      <th>11/4/20</th>\n      <th>11/5/20</th>\n      <th>11/6/20</th>\n      <th>11/7/20</th>\n      <th>11/8/20</th>\n      <th>11/9/20</th>\n      <th>11/10/20</th>\n      <th>11/11/20</th>\n    </tr>\n  </thead>\n  <tbody>\n    <tr>\n      <th>0</th>\n      <td>84001001</td>\n      <td>US</td>\n      <td>USA</td>\n      <td>840</td>\n      <td>1001.0</td>\n      <td>Autauga</td>\n      <td>Alabama</td>\n      <td>US</td>\n      <td>32.539527</td>\n      <td>-86.644082</td>\n      <td>...</td>\n      <td>2186</td>\n      <td>2197</td>\n      <td>2212</td>\n      <td>2230</td>\n      <td>2242</td>\n      <td>2267</td>\n      <td>2283</td>\n      <td>2304</td>\n      <td>2328</td>\n      <td>2351</td>\n    </tr>\n    <tr>\n      <th>1</th>\n      <td>84001003</td>\n      <td>US</td>\n      <td>USA</td>\n      <td>840</td>\n      <td>1003.0</td>\n      <td>Baldwin</td>\n      <td>Alabama</td>\n      <td>US</td>\n      <td>30.727750</td>\n      <td>-87.722071</td>\n      <td>...</td>\n      <td>6985</td>\n      <td>6995</td>\n      <td>7061</td>\n      <td>7097</td>\n      <td>7134</td>\n      <td>7188</td>\n      <td>7226</td>\n      <td>7263</td>\n      <td>7348</td>\n      <td>7409</td>\n    </tr>\n    <tr>\n      <th>2</th>\n      <td>84001005</td>\n      <td>US</td>\n      <td>USA</td>\n      <td>840</td>\n      <td>1005.0</td>\n      <td>Barbour</td>\n      <td>Alabama</td>\n      <td>US</td>\n      <td>31.868263</td>\n      <td>-85.387129</td>\n      <td>...</td>\n      <td>1065</td>\n      <td>1074</td>\n      <td>1079</td>\n      <td>1080</td>\n      <td>1090</td>\n      <td>1092</td>\n      <td>1095</td>\n      <td>1098</td>\n      <td>1107</td>\n      <td>1112</td>\n    </tr>\n    <tr>\n      <th>3</th>\n      <td>84001007</td>\n      <td>US</td>\n      <td>USA</td>\n      <td>840</td>\n      <td>1007.0</td>\n      <td>Bibb</td>\n      <td>Alabama</td>\n      <td>US</td>\n      <td>32.996421</td>\n      <td>-87.125115</td>\n      <td>...</td>\n      <td>883</td>\n      <td>890</td>\n      <td>897</td>\n      <td>907</td>\n      <td>917</td>\n      <td>924</td>\n      <td>926</td>\n      <td>932</td>\n      <td>948</td>\n      <td>961</td>\n    </tr>\n    <tr>\n      <th>4</th>\n      <td>84001009</td>\n      <td>US</td>\n      <td>USA</td>\n      <td>840</td>\n      <td>1009.0</td>\n      <td>Blount</td>\n      <td>Alabama</td>\n      <td>US</td>\n      <td>33.982109</td>\n      <td>-86.567906</td>\n      <td>...</td>\n      <td>2108</td>\n      <td>2162</td>\n      <td>2188</td>\n      <td>2222</td>\n      <td>2253</td>\n      <td>2286</td>\n      <td>2297</td>\n      <td>2335</td>\n      <td>2378</td>\n      <td>2400</td>\n    </tr>\n  </tbody>\n</table>\n<p>5 rows × 306 columns</p>\n</div>"
     },
     "metadata": {},
     "output_type": "execute_result",
     "execution_count": 2
    }
   ]
  },
  {
   "cell_type": "code",
   "source": [
    "raw_deaths_us.tail()"
   ],
   "metadata": {
    "collapsed": false,
    "pycharm": {
     "name": "#%%\n",
     "is_executing": false
    }
   },
   "execution_count": 3,
   "outputs": [
    {
     "data": {
      "text/plain": "           UID iso2 iso3  code3     FIPS      Admin2 Province_State  \\\n3335  84056039   US  USA    840  56039.0       Teton        Wyoming   \n3336  84056041   US  USA    840  56041.0       Uinta        Wyoming   \n3337  84090056   US  USA    840  90056.0  Unassigned        Wyoming   \n3338  84056043   US  USA    840  56043.0    Washakie        Wyoming   \n3339  84056045   US  USA    840  56045.0      Weston        Wyoming   \n\n     Country_Region        Lat       Long_  ... 11/2/20  11/3/20  11/4/20  \\\n3335             US  43.935225 -110.589080  ...       1        2        2   \n3336             US  41.287818 -110.547578  ...       3        3        3   \n3337             US   0.000000    0.000000  ...      10        0        0   \n3338             US  43.904516 -107.680187  ...       7        7        7   \n3339             US  43.839612 -104.567488  ...       0        0        1   \n\n      11/5/20  11/6/20  11/7/20  11/8/20  11/9/20  11/10/20  11/11/20  \n3335        2        2        2        2        2         2         2  \n3336        3        3        3        4        4         4         4  \n3337        0        0        9        0        0         0         0  \n3338        7        7        7        7        7         7         7  \n3339        1        1        1        0        0         0         0  \n\n[5 rows x 307 columns]",
      "text/html": "<div>\n<style scoped>\n    .dataframe tbody tr th:only-of-type {\n        vertical-align: middle;\n    }\n\n    .dataframe tbody tr th {\n        vertical-align: top;\n    }\n\n    .dataframe thead th {\n        text-align: right;\n    }\n</style>\n<table border=\"1\" class=\"dataframe\">\n  <thead>\n    <tr style=\"text-align: right;\">\n      <th></th>\n      <th>UID</th>\n      <th>iso2</th>\n      <th>iso3</th>\n      <th>code3</th>\n      <th>FIPS</th>\n      <th>Admin2</th>\n      <th>Province_State</th>\n      <th>Country_Region</th>\n      <th>Lat</th>\n      <th>Long_</th>\n      <th>...</th>\n      <th>11/2/20</th>\n      <th>11/3/20</th>\n      <th>11/4/20</th>\n      <th>11/5/20</th>\n      <th>11/6/20</th>\n      <th>11/7/20</th>\n      <th>11/8/20</th>\n      <th>11/9/20</th>\n      <th>11/10/20</th>\n      <th>11/11/20</th>\n    </tr>\n  </thead>\n  <tbody>\n    <tr>\n      <th>3335</th>\n      <td>84056039</td>\n      <td>US</td>\n      <td>USA</td>\n      <td>840</td>\n      <td>56039.0</td>\n      <td>Teton</td>\n      <td>Wyoming</td>\n      <td>US</td>\n      <td>43.935225</td>\n      <td>-110.589080</td>\n      <td>...</td>\n      <td>1</td>\n      <td>2</td>\n      <td>2</td>\n      <td>2</td>\n      <td>2</td>\n      <td>2</td>\n      <td>2</td>\n      <td>2</td>\n      <td>2</td>\n      <td>2</td>\n    </tr>\n    <tr>\n      <th>3336</th>\n      <td>84056041</td>\n      <td>US</td>\n      <td>USA</td>\n      <td>840</td>\n      <td>56041.0</td>\n      <td>Uinta</td>\n      <td>Wyoming</td>\n      <td>US</td>\n      <td>41.287818</td>\n      <td>-110.547578</td>\n      <td>...</td>\n      <td>3</td>\n      <td>3</td>\n      <td>3</td>\n      <td>3</td>\n      <td>3</td>\n      <td>3</td>\n      <td>4</td>\n      <td>4</td>\n      <td>4</td>\n      <td>4</td>\n    </tr>\n    <tr>\n      <th>3337</th>\n      <td>84090056</td>\n      <td>US</td>\n      <td>USA</td>\n      <td>840</td>\n      <td>90056.0</td>\n      <td>Unassigned</td>\n      <td>Wyoming</td>\n      <td>US</td>\n      <td>0.000000</td>\n      <td>0.000000</td>\n      <td>...</td>\n      <td>10</td>\n      <td>0</td>\n      <td>0</td>\n      <td>0</td>\n      <td>0</td>\n      <td>9</td>\n      <td>0</td>\n      <td>0</td>\n      <td>0</td>\n      <td>0</td>\n    </tr>\n    <tr>\n      <th>3338</th>\n      <td>84056043</td>\n      <td>US</td>\n      <td>USA</td>\n      <td>840</td>\n      <td>56043.0</td>\n      <td>Washakie</td>\n      <td>Wyoming</td>\n      <td>US</td>\n      <td>43.904516</td>\n      <td>-107.680187</td>\n      <td>...</td>\n      <td>7</td>\n      <td>7</td>\n      <td>7</td>\n      <td>7</td>\n      <td>7</td>\n      <td>7</td>\n      <td>7</td>\n      <td>7</td>\n      <td>7</td>\n      <td>7</td>\n    </tr>\n    <tr>\n      <th>3339</th>\n      <td>84056045</td>\n      <td>US</td>\n      <td>USA</td>\n      <td>840</td>\n      <td>56045.0</td>\n      <td>Weston</td>\n      <td>Wyoming</td>\n      <td>US</td>\n      <td>43.839612</td>\n      <td>-104.567488</td>\n      <td>...</td>\n      <td>0</td>\n      <td>0</td>\n      <td>1</td>\n      <td>1</td>\n      <td>1</td>\n      <td>1</td>\n      <td>0</td>\n      <td>0</td>\n      <td>0</td>\n      <td>0</td>\n    </tr>\n  </tbody>\n</table>\n<p>5 rows × 307 columns</p>\n</div>"
     },
     "metadata": {},
     "output_type": "execute_result",
     "execution_count": 3
    }
   ]
  },
  {
   "cell_type": "code",
   "execution_count": 4,
   "outputs": [],
   "source": [
    "# clean us cases and deaths\n",
    "def us_col_clean(case_df, death_df):\n",
    "    cols_to_drop = ['UID', 'iso2', 'iso3', 'code3', 'Admin2', 'Country_Region', 'Lat', 'Long_', 'Combined_Key']\n",
    "    tmp_case = case_df.drop(cols_to_drop, axis=1)\n",
    "    tmp_death = death_df.drop(cols_to_drop + ['Population'], axis=1)\n",
    "    tmp_case['indicator'] = 'Confirmed'\n",
    "    tmp_death['indicator'] = 'Deaths'\n",
    "    tmp = pd.concat([tmp_case, tmp_death], axis=0, ignore_index=True)\n",
    "  \n",
    "    return tmp\n",
    "\n",
    "# clean the FIPS codes to 5 digits\n",
    "def fips_codes(df):\n",
    "    df = df[pd.notnull(df['FIPS'])] # no NA for FIPS\n",
    "    df['FIPS'] = df['FIPS'].astype(int)\n",
    "    df['FIPS'] = ['0'+str(i) if len(str(i))==4 else str(i) for i in df['FIPS']]\n",
    "    return df"
   ],
   "metadata": {
    "collapsed": false,
    "pycharm": {
     "name": "#%%\n",
     "is_executing": false
    }
   }
  },
  {
   "cell_type": "code",
   "execution_count": 5,
   "outputs": [
    {
     "name": "stderr",
     "text": [
      "C:\\Users\\bolim\\Anaconda3\\lib\\site-packages\\ipykernel_launcher.py:15: SettingWithCopyWarning: \n",
      "A value is trying to be set on a copy of a slice from a DataFrame.\n",
      "Try using .loc[row_indexer,col_indexer] = value instead\n",
      "\n",
      "See the caveats in the documentation: http://pandas.pydata.org/pandas-docs/stable/user_guide/indexing.html#returning-a-view-versus-a-copy\n",
      "  from ipykernel import kernelapp as app\n",
      "C:\\Users\\bolim\\Anaconda3\\lib\\site-packages\\ipykernel_launcher.py:16: SettingWithCopyWarning: \n",
      "A value is trying to be set on a copy of a slice from a DataFrame.\n",
      "Try using .loc[row_indexer,col_indexer] = value instead\n",
      "\n",
      "See the caveats in the documentation: http://pandas.pydata.org/pandas-docs/stable/user_guide/indexing.html#returning-a-view-versus-a-copy\n",
      "  app.launch_new_instance()\n"
     ],
     "output_type": "stream"
    },
    {
     "data": {
      "text/plain": "    FIPS Province_State  1/22/20  1/23/20  1/24/20  1/25/20  1/26/20  1/27/20  \\\n0  01001        Alabama        0        0        0        0        0        0   \n1  01003        Alabama        0        0        0        0        0        0   \n2  01005        Alabama        0        0        0        0        0        0   \n3  01007        Alabama        0        0        0        0        0        0   \n4  01009        Alabama        0        0        0        0        0        0   \n\n   1/28/20  1/29/20  ...  11/3/20  11/4/20  11/5/20  11/6/20  11/7/20  \\\n0        0        0  ...     2197     2212     2230     2242     2267   \n1        0        0  ...     6995     7061     7097     7134     7188   \n2        0        0  ...     1074     1079     1080     1090     1092   \n3        0        0  ...      890      897      907      917      924   \n4        0        0  ...     2162     2188     2222     2253     2286   \n\n   11/8/20  11/9/20  11/10/20  11/11/20  indicator  \n0     2283     2304      2328      2351  Confirmed  \n1     7226     7263      7348      7409  Confirmed  \n2     1095     1098      1107      1112  Confirmed  \n3      926      932       948       961  Confirmed  \n4     2297     2335      2378      2400  Confirmed  \n\n[5 rows x 298 columns]",
      "text/html": "<div>\n<style scoped>\n    .dataframe tbody tr th:only-of-type {\n        vertical-align: middle;\n    }\n\n    .dataframe tbody tr th {\n        vertical-align: top;\n    }\n\n    .dataframe thead th {\n        text-align: right;\n    }\n</style>\n<table border=\"1\" class=\"dataframe\">\n  <thead>\n    <tr style=\"text-align: right;\">\n      <th></th>\n      <th>FIPS</th>\n      <th>Province_State</th>\n      <th>1/22/20</th>\n      <th>1/23/20</th>\n      <th>1/24/20</th>\n      <th>1/25/20</th>\n      <th>1/26/20</th>\n      <th>1/27/20</th>\n      <th>1/28/20</th>\n      <th>1/29/20</th>\n      <th>...</th>\n      <th>11/3/20</th>\n      <th>11/4/20</th>\n      <th>11/5/20</th>\n      <th>11/6/20</th>\n      <th>11/7/20</th>\n      <th>11/8/20</th>\n      <th>11/9/20</th>\n      <th>11/10/20</th>\n      <th>11/11/20</th>\n      <th>indicator</th>\n    </tr>\n  </thead>\n  <tbody>\n    <tr>\n      <th>0</th>\n      <td>01001</td>\n      <td>Alabama</td>\n      <td>0</td>\n      <td>0</td>\n      <td>0</td>\n      <td>0</td>\n      <td>0</td>\n      <td>0</td>\n      <td>0</td>\n      <td>0</td>\n      <td>...</td>\n      <td>2197</td>\n      <td>2212</td>\n      <td>2230</td>\n      <td>2242</td>\n      <td>2267</td>\n      <td>2283</td>\n      <td>2304</td>\n      <td>2328</td>\n      <td>2351</td>\n      <td>Confirmed</td>\n    </tr>\n    <tr>\n      <th>1</th>\n      <td>01003</td>\n      <td>Alabama</td>\n      <td>0</td>\n      <td>0</td>\n      <td>0</td>\n      <td>0</td>\n      <td>0</td>\n      <td>0</td>\n      <td>0</td>\n      <td>0</td>\n      <td>...</td>\n      <td>6995</td>\n      <td>7061</td>\n      <td>7097</td>\n      <td>7134</td>\n      <td>7188</td>\n      <td>7226</td>\n      <td>7263</td>\n      <td>7348</td>\n      <td>7409</td>\n      <td>Confirmed</td>\n    </tr>\n    <tr>\n      <th>2</th>\n      <td>01005</td>\n      <td>Alabama</td>\n      <td>0</td>\n      <td>0</td>\n      <td>0</td>\n      <td>0</td>\n      <td>0</td>\n      <td>0</td>\n      <td>0</td>\n      <td>0</td>\n      <td>...</td>\n      <td>1074</td>\n      <td>1079</td>\n      <td>1080</td>\n      <td>1090</td>\n      <td>1092</td>\n      <td>1095</td>\n      <td>1098</td>\n      <td>1107</td>\n      <td>1112</td>\n      <td>Confirmed</td>\n    </tr>\n    <tr>\n      <th>3</th>\n      <td>01007</td>\n      <td>Alabama</td>\n      <td>0</td>\n      <td>0</td>\n      <td>0</td>\n      <td>0</td>\n      <td>0</td>\n      <td>0</td>\n      <td>0</td>\n      <td>0</td>\n      <td>...</td>\n      <td>890</td>\n      <td>897</td>\n      <td>907</td>\n      <td>917</td>\n      <td>924</td>\n      <td>926</td>\n      <td>932</td>\n      <td>948</td>\n      <td>961</td>\n      <td>Confirmed</td>\n    </tr>\n    <tr>\n      <th>4</th>\n      <td>01009</td>\n      <td>Alabama</td>\n      <td>0</td>\n      <td>0</td>\n      <td>0</td>\n      <td>0</td>\n      <td>0</td>\n      <td>0</td>\n      <td>0</td>\n      <td>0</td>\n      <td>...</td>\n      <td>2162</td>\n      <td>2188</td>\n      <td>2222</td>\n      <td>2253</td>\n      <td>2286</td>\n      <td>2297</td>\n      <td>2335</td>\n      <td>2378</td>\n      <td>2400</td>\n      <td>Confirmed</td>\n    </tr>\n  </tbody>\n</table>\n<p>5 rows × 298 columns</p>\n</div>"
     },
     "metadata": {},
     "output_type": "execute_result",
     "execution_count": 5
    }
   ],
   "source": [
    "us_raw = us_col_clean(raw_cases_us, raw_deaths_us)\n",
    "us_raw = fips_codes(us_raw) # FIPS to 5 digit string\n",
    "us_raw.head()"
   ],
   "metadata": {
    "collapsed": false,
    "pycharm": {
     "name": "#%%\n",
     "is_executing": false
    }
   }
  },
  {
   "cell_type": "code",
   "execution_count": 24,
   "outputs": [],
   "source": [
    "def us_shape_clean(df):\n",
    "    df = pd.melt(df, id_vars=['FIPS', 'indicator', 'Province_State'], var_name='Date', value_name='Value')\n",
    "    #df.head()\n",
    "    df['Date'] = df['Date'].apply(lambda x: dt.datetime.strptime(str(x), '%m/%d/%y'))\n",
    "    df = pd.pivot_table(df, index = ['Date', 'FIPS', 'Province_State'], columns='indicator', values = 'Value', aggfunc=np.sum).reset_index()\n",
    "    # Remove non-states\n",
    "    not_state = ['American Samoa', 'Diamond Princess', 'Grand Princess', 'Guam', 'Northern Mariana Islands', 'Puerto Rico', 'Virgin Islands']\n",
    "    df = df[~df['Province_State'].isin(not_state)]\n",
    "    df = df.sort_values(by=['Date', 'FIPS'])\n",
    "\n",
    "    return df"
   ],
   "metadata": {
    "collapsed": false,
    "pycharm": {
     "name": "#%%\n",
     "is_executing": false
    }
   }
  },
  {
   "cell_type": "code",
   "execution_count": 25,
   "outputs": [
    {
     "name": "stdout",
     "text": [
      "Wall time: 18.2 s\n"
     ],
     "output_type": "stream"
    }
   ],
   "source": [
    "%%time\n",
    "us_clean = us_shape_clean(us_raw)"
   ],
   "metadata": {
    "collapsed": false,
    "pycharm": {
     "name": "#%%\n",
     "is_executing": false
    }
   }
  },
  {
   "cell_type": "code",
   "execution_count": 26,
   "outputs": [
    {
     "data": {
      "text/plain": "indicator       Date   FIPS Province_State  Confirmed  Deaths\n0         2020-01-22  01001        Alabama          0       0\n1         2020-01-22  01003        Alabama          0       0\n2         2020-01-22  01005        Alabama          0       0\n3         2020-01-22  01007        Alabama          0       0\n4         2020-01-22  01009        Alabama          0       0",
      "text/html": "<div>\n<style scoped>\n    .dataframe tbody tr th:only-of-type {\n        vertical-align: middle;\n    }\n\n    .dataframe tbody tr th {\n        vertical-align: top;\n    }\n\n    .dataframe thead th {\n        text-align: right;\n    }\n</style>\n<table border=\"1\" class=\"dataframe\">\n  <thead>\n    <tr style=\"text-align: right;\">\n      <th>indicator</th>\n      <th>Date</th>\n      <th>FIPS</th>\n      <th>Province_State</th>\n      <th>Confirmed</th>\n      <th>Deaths</th>\n    </tr>\n  </thead>\n  <tbody>\n    <tr>\n      <th>0</th>\n      <td>2020-01-22</td>\n      <td>01001</td>\n      <td>Alabama</td>\n      <td>0</td>\n      <td>0</td>\n    </tr>\n    <tr>\n      <th>1</th>\n      <td>2020-01-22</td>\n      <td>01003</td>\n      <td>Alabama</td>\n      <td>0</td>\n      <td>0</td>\n    </tr>\n    <tr>\n      <th>2</th>\n      <td>2020-01-22</td>\n      <td>01005</td>\n      <td>Alabama</td>\n      <td>0</td>\n      <td>0</td>\n    </tr>\n    <tr>\n      <th>3</th>\n      <td>2020-01-22</td>\n      <td>01007</td>\n      <td>Alabama</td>\n      <td>0</td>\n      <td>0</td>\n    </tr>\n    <tr>\n      <th>4</th>\n      <td>2020-01-22</td>\n      <td>01009</td>\n      <td>Alabama</td>\n      <td>0</td>\n      <td>0</td>\n    </tr>\n  </tbody>\n</table>\n</div>"
     },
     "metadata": {},
     "output_type": "execute_result",
     "execution_count": 26
    }
   ],
   "source": [
    "# Columns: FIPS, Date, Province_State, cases, deaths\n",
    "us_clean.head()"
   ],
   "metadata": {
    "collapsed": false,
    "pycharm": {
     "name": "#%%\n",
     "is_executing": false
    }
   }
  },
  {
   "cell_type": "code",
   "execution_count": 27,
   "outputs": [
    {
     "data": {
      "text/plain": "indicator       Date   FIPS Province_State  Confirmed  Deaths\n982344    2020-11-11  90051       Virginia          0       0\n982345    2020-11-11  90053     Washington        416       3\n982346    2020-11-11  90054  West Virginia          0       0\n982347    2020-11-11  90055      Wisconsin          0       0\n982348    2020-11-11  90056        Wyoming          0       0",
      "text/html": "<div>\n<style scoped>\n    .dataframe tbody tr th:only-of-type {\n        vertical-align: middle;\n    }\n\n    .dataframe tbody tr th {\n        vertical-align: top;\n    }\n\n    .dataframe thead th {\n        text-align: right;\n    }\n</style>\n<table border=\"1\" class=\"dataframe\">\n  <thead>\n    <tr style=\"text-align: right;\">\n      <th>indicator</th>\n      <th>Date</th>\n      <th>FIPS</th>\n      <th>Province_State</th>\n      <th>Confirmed</th>\n      <th>Deaths</th>\n    </tr>\n  </thead>\n  <tbody>\n    <tr>\n      <th>982344</th>\n      <td>2020-11-11</td>\n      <td>90051</td>\n      <td>Virginia</td>\n      <td>0</td>\n      <td>0</td>\n    </tr>\n    <tr>\n      <th>982345</th>\n      <td>2020-11-11</td>\n      <td>90053</td>\n      <td>Washington</td>\n      <td>416</td>\n      <td>3</td>\n    </tr>\n    <tr>\n      <th>982346</th>\n      <td>2020-11-11</td>\n      <td>90054</td>\n      <td>West Virginia</td>\n      <td>0</td>\n      <td>0</td>\n    </tr>\n    <tr>\n      <th>982347</th>\n      <td>2020-11-11</td>\n      <td>90055</td>\n      <td>Wisconsin</td>\n      <td>0</td>\n      <td>0</td>\n    </tr>\n    <tr>\n      <th>982348</th>\n      <td>2020-11-11</td>\n      <td>90056</td>\n      <td>Wyoming</td>\n      <td>0</td>\n      <td>0</td>\n    </tr>\n  </tbody>\n</table>\n</div>"
     },
     "metadata": {},
     "output_type": "execute_result",
     "execution_count": 27
    }
   ],
   "source": [
    "us_clean.tail()"
   ],
   "metadata": {
    "collapsed": false,
    "pycharm": {
     "name": "#%%\n",
     "is_executing": false
    }
   }
  },
  {
   "cell_type": "code",
   "execution_count": null,
   "outputs": [],
   "source": [
    "####### Below is working function, please leave it\n",
    "def new_cases_country(dataframe, country):\n",
    "  confirmed = dataframe[dataframe['Country/Region'] == country]['Confirmed'].values.tolist()\n",
    "  deaths = dataframe[dataframe['Country/Region'] == country]['Deaths'].values.tolist()\n",
    "  tmp_df = dataframe[dataframe['Country/Region'] == country]\n",
    "  new_confirmed = [confirmed[0]]\n",
    "  new_deaths = [deaths[0]]\n",
    "  for i in range(len(tmp_df)-1):\n",
    "    new_confirmed.append(confirmed[i+1]-confirmed[i])\n",
    "    new_deaths.append(deaths[i+1]-deaths[i])\n",
    "  tmp_df['new_confirmed'] = new_confirmed\n",
    "  tmp_df['new_deaths'] = new_deaths\n",
    "\n",
    "  return tmp_df # returns subsetted df with daily new confirmed and daily new deaths"
   ],
   "metadata": {
    "collapsed": false,
    "pycharm": {
     "name": "#%%\n"
    }
   }
  },
  {
   "cell_type": "code",
   "execution_count": 29,
   "outputs": [],
   "source": [
    "# Compute rolling 7 day average for new_confirmed and new_death for each county\n",
    "us_clean['new_confirmed_avg'] = us_clean.groupby('FIPS')['Confirmed'].rolling(7).mean().reset_index(0, drop=True)\n",
    "us_clean['new_deaths_avg'] = us_clean.groupby('FIPS')['Deaths'].rolling(7).mean().reset_index(0, drop=True)"
   ],
   "metadata": {
    "collapsed": false,
    "pycharm": {
     "name": "#%%\n",
     "is_executing": false
    }
   }
  },
  {
   "cell_type": "code",
   "execution_count": 32,
   "outputs": [
    {
     "data": {
      "text/plain": "indicator       Date   FIPS Province_State  Confirmed  Deaths  \\\n950908    2020-11-02  36061       New York      36814    3200   \n954238    2020-11-03  36061       New York      36980    3200   \n957568    2020-11-04  36061       New York      37100    3200   \n960898    2020-11-05  36061       New York      37278    3201   \n964228    2020-11-06  36061       New York      37430    3200   \n967558    2020-11-07  36061       New York      37641    3199   \n970888    2020-11-08  36061       New York      37940    3200   \n974218    2020-11-09  36061       New York      38171    3200   \n977548    2020-11-10  36061       New York      38384    3198   \n980878    2020-11-11  36061       New York      38668    3200   \n\nindicator  new_confirmed_avg  new_deaths_avg  \n950908          36377.857143     3197.714286  \n954238          36532.571429     3198.428571  \n957568          36678.857143     3199.142857  \n960898          36829.428571     3199.571429  \n964228          36976.571429     3199.857143  \n967558          37136.428571     3200.000000  \n970888          37311.857143     3200.000000  \n974218          37505.714286     3200.000000  \n977548          37706.285714     3199.714286  \n980878          37930.285714     3199.714286  ",
      "text/html": "<div>\n<style scoped>\n    .dataframe tbody tr th:only-of-type {\n        vertical-align: middle;\n    }\n\n    .dataframe tbody tr th {\n        vertical-align: top;\n    }\n\n    .dataframe thead th {\n        text-align: right;\n    }\n</style>\n<table border=\"1\" class=\"dataframe\">\n  <thead>\n    <tr style=\"text-align: right;\">\n      <th>indicator</th>\n      <th>Date</th>\n      <th>FIPS</th>\n      <th>Province_State</th>\n      <th>Confirmed</th>\n      <th>Deaths</th>\n      <th>new_confirmed_avg</th>\n      <th>new_deaths_avg</th>\n    </tr>\n  </thead>\n  <tbody>\n    <tr>\n      <th>950908</th>\n      <td>2020-11-02</td>\n      <td>36061</td>\n      <td>New York</td>\n      <td>36814</td>\n      <td>3200</td>\n      <td>36377.857143</td>\n      <td>3197.714286</td>\n    </tr>\n    <tr>\n      <th>954238</th>\n      <td>2020-11-03</td>\n      <td>36061</td>\n      <td>New York</td>\n      <td>36980</td>\n      <td>3200</td>\n      <td>36532.571429</td>\n      <td>3198.428571</td>\n    </tr>\n    <tr>\n      <th>957568</th>\n      <td>2020-11-04</td>\n      <td>36061</td>\n      <td>New York</td>\n      <td>37100</td>\n      <td>3200</td>\n      <td>36678.857143</td>\n      <td>3199.142857</td>\n    </tr>\n    <tr>\n      <th>960898</th>\n      <td>2020-11-05</td>\n      <td>36061</td>\n      <td>New York</td>\n      <td>37278</td>\n      <td>3201</td>\n      <td>36829.428571</td>\n      <td>3199.571429</td>\n    </tr>\n    <tr>\n      <th>964228</th>\n      <td>2020-11-06</td>\n      <td>36061</td>\n      <td>New York</td>\n      <td>37430</td>\n      <td>3200</td>\n      <td>36976.571429</td>\n      <td>3199.857143</td>\n    </tr>\n    <tr>\n      <th>967558</th>\n      <td>2020-11-07</td>\n      <td>36061</td>\n      <td>New York</td>\n      <td>37641</td>\n      <td>3199</td>\n      <td>37136.428571</td>\n      <td>3200.000000</td>\n    </tr>\n    <tr>\n      <th>970888</th>\n      <td>2020-11-08</td>\n      <td>36061</td>\n      <td>New York</td>\n      <td>37940</td>\n      <td>3200</td>\n      <td>37311.857143</td>\n      <td>3200.000000</td>\n    </tr>\n    <tr>\n      <th>974218</th>\n      <td>2020-11-09</td>\n      <td>36061</td>\n      <td>New York</td>\n      <td>38171</td>\n      <td>3200</td>\n      <td>37505.714286</td>\n      <td>3200.000000</td>\n    </tr>\n    <tr>\n      <th>977548</th>\n      <td>2020-11-10</td>\n      <td>36061</td>\n      <td>New York</td>\n      <td>38384</td>\n      <td>3198</td>\n      <td>37706.285714</td>\n      <td>3199.714286</td>\n    </tr>\n    <tr>\n      <th>980878</th>\n      <td>2020-11-11</td>\n      <td>36061</td>\n      <td>New York</td>\n      <td>38668</td>\n      <td>3200</td>\n      <td>37930.285714</td>\n      <td>3199.714286</td>\n    </tr>\n  </tbody>\n</table>\n</div>"
     },
     "metadata": {},
     "output_type": "execute_result",
     "execution_count": 32
    }
   ],
   "source": [
    "# sanity check\n",
    "us_clean[us_clean['FIPS'] == \"36061\"].tail(10) ## manhattan"
   ],
   "metadata": {
    "collapsed": false,
    "pycharm": {
     "name": "#%%\n",
     "is_executing": false
    }
   }
  },
  {
   "cell_type": "code",
   "execution_count": 33,
   "outputs": [
    {
     "data": {
      "text/plain": "indicator       Date   FIPS Province_State  Confirmed  Deaths  \\\n952374    2020-11-02  90051       Virginia          0       0   \n955704    2020-11-03  90051       Virginia          0       0   \n959034    2020-11-04  90051       Virginia          0       0   \n962364    2020-11-05  90051       Virginia          0       0   \n965694    2020-11-06  90051       Virginia          0       0   \n969024    2020-11-07  90051       Virginia          0       0   \n972354    2020-11-08  90051       Virginia          0       0   \n975684    2020-11-09  90051       Virginia          0       0   \n979014    2020-11-10  90051       Virginia          0       0   \n982344    2020-11-11  90051       Virginia          0       0   \n\nindicator  new_confirmed_avg  new_deaths_avg  \n952374                   0.0             0.0  \n955704                   0.0             0.0  \n959034                   0.0             0.0  \n962364                   0.0             0.0  \n965694                   0.0             0.0  \n969024                   0.0             0.0  \n972354                   0.0             0.0  \n975684                   0.0             0.0  \n979014                   0.0             0.0  \n982344                   0.0             0.0  ",
      "text/html": "<div>\n<style scoped>\n    .dataframe tbody tr th:only-of-type {\n        vertical-align: middle;\n    }\n\n    .dataframe tbody tr th {\n        vertical-align: top;\n    }\n\n    .dataframe thead th {\n        text-align: right;\n    }\n</style>\n<table border=\"1\" class=\"dataframe\">\n  <thead>\n    <tr style=\"text-align: right;\">\n      <th>indicator</th>\n      <th>Date</th>\n      <th>FIPS</th>\n      <th>Province_State</th>\n      <th>Confirmed</th>\n      <th>Deaths</th>\n      <th>new_confirmed_avg</th>\n      <th>new_deaths_avg</th>\n    </tr>\n  </thead>\n  <tbody>\n    <tr>\n      <th>952374</th>\n      <td>2020-11-02</td>\n      <td>90051</td>\n      <td>Virginia</td>\n      <td>0</td>\n      <td>0</td>\n      <td>0.0</td>\n      <td>0.0</td>\n    </tr>\n    <tr>\n      <th>955704</th>\n      <td>2020-11-03</td>\n      <td>90051</td>\n      <td>Virginia</td>\n      <td>0</td>\n      <td>0</td>\n      <td>0.0</td>\n      <td>0.0</td>\n    </tr>\n    <tr>\n      <th>959034</th>\n      <td>2020-11-04</td>\n      <td>90051</td>\n      <td>Virginia</td>\n      <td>0</td>\n      <td>0</td>\n      <td>0.0</td>\n      <td>0.0</td>\n    </tr>\n    <tr>\n      <th>962364</th>\n      <td>2020-11-05</td>\n      <td>90051</td>\n      <td>Virginia</td>\n      <td>0</td>\n      <td>0</td>\n      <td>0.0</td>\n      <td>0.0</td>\n    </tr>\n    <tr>\n      <th>965694</th>\n      <td>2020-11-06</td>\n      <td>90051</td>\n      <td>Virginia</td>\n      <td>0</td>\n      <td>0</td>\n      <td>0.0</td>\n      <td>0.0</td>\n    </tr>\n    <tr>\n      <th>969024</th>\n      <td>2020-11-07</td>\n      <td>90051</td>\n      <td>Virginia</td>\n      <td>0</td>\n      <td>0</td>\n      <td>0.0</td>\n      <td>0.0</td>\n    </tr>\n    <tr>\n      <th>972354</th>\n      <td>2020-11-08</td>\n      <td>90051</td>\n      <td>Virginia</td>\n      <td>0</td>\n      <td>0</td>\n      <td>0.0</td>\n      <td>0.0</td>\n    </tr>\n    <tr>\n      <th>975684</th>\n      <td>2020-11-09</td>\n      <td>90051</td>\n      <td>Virginia</td>\n      <td>0</td>\n      <td>0</td>\n      <td>0.0</td>\n      <td>0.0</td>\n    </tr>\n    <tr>\n      <th>979014</th>\n      <td>2020-11-10</td>\n      <td>90051</td>\n      <td>Virginia</td>\n      <td>0</td>\n      <td>0</td>\n      <td>0.0</td>\n      <td>0.0</td>\n    </tr>\n    <tr>\n      <th>982344</th>\n      <td>2020-11-11</td>\n      <td>90051</td>\n      <td>Virginia</td>\n      <td>0</td>\n      <td>0</td>\n      <td>0.0</td>\n      <td>0.0</td>\n    </tr>\n  </tbody>\n</table>\n</div>"
     },
     "metadata": {},
     "output_type": "execute_result",
     "execution_count": 33
    }
   ],
   "source": [
    "us_clean[us_clean['FIPS'] == \"90051\"].tail(10) ## random county in virginia"
   ],
   "metadata": {
    "collapsed": false,
    "pycharm": {
     "name": "#%%\n",
     "is_executing": false
    }
   }
  },
  {
   "cell_type": "code",
   "execution_count": 34,
   "outputs": [
    {
     "data": {
      "text/plain": "indicator       Date   FIPS Province_State  Confirmed  Deaths  \\\n952375    2020-11-02  90053     Washington        371       3   \n955705    2020-11-03  90053     Washington        373       3   \n959035    2020-11-04  90053     Washington        484       3   \n962365    2020-11-05  90053     Washington        375       3   \n965695    2020-11-06  90053     Washington        424       3   \n969025    2020-11-07  90053     Washington        451       3   \n972355    2020-11-08  90053     Washington        419       3   \n975685    2020-11-09  90053     Washington        388       3   \n979015    2020-11-10  90053     Washington        416       3   \n982345    2020-11-11  90053     Washington        416       3   \n\nindicator  new_confirmed_avg  new_deaths_avg  \n952375            382.142857             3.0  \n955705            383.285714             3.0  \n959035            394.571429             3.0  \n962365            388.285714             3.0  \n965695            393.857143             3.0  \n969025            405.857143             3.0  \n972355            413.857143             3.0  \n975685            416.285714             3.0  \n979015            422.428571             3.0  \n982345            412.714286             3.0  ",
      "text/html": "<div>\n<style scoped>\n    .dataframe tbody tr th:only-of-type {\n        vertical-align: middle;\n    }\n\n    .dataframe tbody tr th {\n        vertical-align: top;\n    }\n\n    .dataframe thead th {\n        text-align: right;\n    }\n</style>\n<table border=\"1\" class=\"dataframe\">\n  <thead>\n    <tr style=\"text-align: right;\">\n      <th>indicator</th>\n      <th>Date</th>\n      <th>FIPS</th>\n      <th>Province_State</th>\n      <th>Confirmed</th>\n      <th>Deaths</th>\n      <th>new_confirmed_avg</th>\n      <th>new_deaths_avg</th>\n    </tr>\n  </thead>\n  <tbody>\n    <tr>\n      <th>952375</th>\n      <td>2020-11-02</td>\n      <td>90053</td>\n      <td>Washington</td>\n      <td>371</td>\n      <td>3</td>\n      <td>382.142857</td>\n      <td>3.0</td>\n    </tr>\n    <tr>\n      <th>955705</th>\n      <td>2020-11-03</td>\n      <td>90053</td>\n      <td>Washington</td>\n      <td>373</td>\n      <td>3</td>\n      <td>383.285714</td>\n      <td>3.0</td>\n    </tr>\n    <tr>\n      <th>959035</th>\n      <td>2020-11-04</td>\n      <td>90053</td>\n      <td>Washington</td>\n      <td>484</td>\n      <td>3</td>\n      <td>394.571429</td>\n      <td>3.0</td>\n    </tr>\n    <tr>\n      <th>962365</th>\n      <td>2020-11-05</td>\n      <td>90053</td>\n      <td>Washington</td>\n      <td>375</td>\n      <td>3</td>\n      <td>388.285714</td>\n      <td>3.0</td>\n    </tr>\n    <tr>\n      <th>965695</th>\n      <td>2020-11-06</td>\n      <td>90053</td>\n      <td>Washington</td>\n      <td>424</td>\n      <td>3</td>\n      <td>393.857143</td>\n      <td>3.0</td>\n    </tr>\n    <tr>\n      <th>969025</th>\n      <td>2020-11-07</td>\n      <td>90053</td>\n      <td>Washington</td>\n      <td>451</td>\n      <td>3</td>\n      <td>405.857143</td>\n      <td>3.0</td>\n    </tr>\n    <tr>\n      <th>972355</th>\n      <td>2020-11-08</td>\n      <td>90053</td>\n      <td>Washington</td>\n      <td>419</td>\n      <td>3</td>\n      <td>413.857143</td>\n      <td>3.0</td>\n    </tr>\n    <tr>\n      <th>975685</th>\n      <td>2020-11-09</td>\n      <td>90053</td>\n      <td>Washington</td>\n      <td>388</td>\n      <td>3</td>\n      <td>416.285714</td>\n      <td>3.0</td>\n    </tr>\n    <tr>\n      <th>979015</th>\n      <td>2020-11-10</td>\n      <td>90053</td>\n      <td>Washington</td>\n      <td>416</td>\n      <td>3</td>\n      <td>422.428571</td>\n      <td>3.0</td>\n    </tr>\n    <tr>\n      <th>982345</th>\n      <td>2020-11-11</td>\n      <td>90053</td>\n      <td>Washington</td>\n      <td>416</td>\n      <td>3</td>\n      <td>412.714286</td>\n      <td>3.0</td>\n    </tr>\n  </tbody>\n</table>\n</div>"
     },
     "metadata": {},
     "output_type": "execute_result",
     "execution_count": 34
    }
   ],
   "source": [
    "us_clean[us_clean['FIPS'] == \"90053\"].tail(10) ## random county in washington state"
   ],
   "metadata": {
    "collapsed": false,
    "pycharm": {
     "name": "#%%\n",
     "is_executing": false
    }
   }
  },
  {
   "cell_type": "code",
   "execution_count": null,
   "outputs": [],
   "source": [
    "# export if necessary\n",
    "\n",
    "file_name = 'us_daily_' + str(max(us_final['Date'])) +'.csv'\n",
    "us_final.to_csv(file_name, index=False)"
   ],
   "metadata": {
    "collapsed": false,
    "pycharm": {
     "name": "#%%\n"
    }
   }
  },
  {
   "cell_type": "markdown",
   "source": [
    "# 2: Oxford policy data (state level)\n",
    "\n",
    "https://raw.githubusercontent.com/OxCGRT/USA-covid-policy/master/data/OxCGRT_US_latest.csv\n",
    "\n",
    "Dataset information:\n",
    "* Aggregated by state\n",
    "* Reported daily\n",
    "\n",
    "Columns:\n",
    "\n",
    "C1_School closing,C1_Flag,C1_Notes,\n",
    "C2_Workplace closing,C2_Flag,C2_Notes,\n",
    "C3_Cancel public events,C3_Flag,C3_Notes,\n",
    "C4_Restrictions on gatherings,C4_Flag,C4_Notes,\n",
    "C5_Close public transport,C5_Flag,C5_Notes,\n",
    "C6_Stay at home requirements,C6_Flag,C6_Notes,\n",
    "C7_Restrictions on internal movement,C7_Flag,C7_Notes,\n",
    "C8_International travel controls,C8_Notes,\n",
    "\n",
    "E1_Income support,E1_Flag,E1_Notes,\n",
    "E2_Debt/contract relief,E2_Notes,\n",
    "E3_Fiscal measures,E3_Notes,\n",
    "E4_International support,E4_Notes,\n",
    "\n",
    "H1_Public information campaigns,H1_Flag,H1_Notes,\n",
    "H2_Testing policy,H2_Notes,\n",
    "H3_Contact tracing,H3_Notes,\n",
    "H4_Emergency investment in healthcare,H4_Notes,\n",
    "H5_Investment in vaccines,H5_Notes,\n",
    "\n",
    "M1_Wildcard,M1_Notes,\n",
    "\n",
    "ConfirmedCases,ConfirmedDeaths,\n",
    "StringencyIndex,StringencyIndexForDisplay,\n",
    "StringencyLegacyIndex,StringencyLegacyIndexForDisplay,\n",
    "GovernmentResponseIndex,GovernmentResponseIndexForDisplay,\n",
    "ContainmentHealthIndex,ContainmentHealthIndexForDisplay,\n",
    "EconomicSupportIndex,EconomicSupportIndexForDisplay\n"
   ],
   "metadata": {
    "collapsed": false,
    "pycharm": {
     "name": "#%% md\n"
    }
   }
  },
  {
   "cell_type": "code",
   "execution_count": null,
   "outputs": [],
   "source": [
    "# Read in the data\n",
    "oxford_raw = pd.read_csv('https://raw.githubusercontent.com/OxCGRT/USA-covid-policy/master/data/OxCGRT_US_latest.csv',\n",
    "                 usecols=range(59))"
   ],
   "metadata": {
    "collapsed": false,
    "pycharm": {
     "name": "#%%\n"
    }
   }
  },
  {
   "cell_type": "code",
   "execution_count": null,
   "outputs": [],
   "source": [
    "oxford_raw.tail() # check"
   ],
   "metadata": {
    "collapsed": false,
    "pycharm": {
     "name": "#%%\n"
    }
   }
  },
  {
   "cell_type": "code",
   "execution_count": null,
   "outputs": [],
   "source": [
    "# Drop columns not necessary\n",
    "cols_to_drop = ['CountryName', 'CountryCode','ConfirmedCases', 'ConfirmedDeaths', 'StringencyIndex','StringencyLegacyIndex','GovernmentResponseIndex']\n",
    "oxford_raw = oxford_raw.drop(cols_to_drop, axis=1)\n",
    "oxford_raw.info()"
   ],
   "metadata": {
    "collapsed": false,
    "pycharm": {
     "name": "#%%\n"
    }
   }
  },
  {
   "cell_type": "code",
   "execution_count": null,
   "outputs": [],
   "source": [
    "oxford = oxford_raw.copy()\n",
    "del(oxford_raw) # delete, save space\n",
    "oxford['Date'] = oxford['Date'].apply(lambda x: dt.datetime.strptime(str(x), '%Y%m%d'))"
   ],
   "metadata": {
    "collapsed": false,
    "pycharm": {
     "name": "#%%\n"
    }
   }
  },
  {
   "cell_type": "code",
   "execution_count": null,
   "outputs": [],
   "source": [
    "# sanity check: end of March in NY - everything should be closed\n",
    "oxford[(oxford['Date']=='2020-03-31')&(oxford['RegionName']=='New York')]"
   ],
   "metadata": {
    "collapsed": false,
    "pycharm": {
     "name": "#%%\n"
    }
   }
  },
  {
   "cell_type": "code",
   "execution_count": null,
   "outputs": [],
   "source": [
    "# sanity check: Most recent in NY - everything should be closed\n",
    "oxford[(oxford['Date']==max(oxford['Date']))&(oxford['RegionName']=='New York')]"
   ],
   "metadata": {
    "collapsed": false,
    "pycharm": {
     "name": "#%%\n"
    }
   }
  },
  {
   "cell_type": "code",
   "execution_count": null,
   "outputs": [],
   "source": [
    "## ready for merging\n",
    "# check\n",
    "jhu_states = sorted(set(us_final['Province_State'].values.tolist()))\n",
    "oxford_states = sorted(set(oxford['RegionName'].values.tolist()))\n",
    "\n",
    "# same length?\n",
    "len(jhu_states) == len(oxford_states)"
   ],
   "metadata": {
    "collapsed": false,
    "pycharm": {
     "name": "#%%\n"
    }
   }
  },
  {
   "cell_type": "markdown",
   "source": [
    "# 3. US Census demographic/population -ACS estimate (county level)\n",
    "\n",
    "ACS survey gives estimate of the total population in a county\n"
   ],
   "metadata": {
    "collapsed": false,
    "pycharm": {
     "name": "#%% md\n"
    }
   }
  },
  {
   "cell_type": "markdown",
   "source": [
    "# 4. Hospital beds, esri\n",
    "\n",
    "Downloaded, already available in .csv format\n",
    "\n"
   ],
   "metadata": {
    "collapsed": false,
    "pycharm": {
     "name": "#%% md\n"
    }
   }
  }
 ],
 "metadata": {
  "colab": {
   "collapsed_sections": [],
   "name": "Practicum.ipynb",
   "provenance": []
  },
  "kernelspec": {
   "display_name": "Python 3",
   "language": "python",
   "name": "python3"
  },
  "language_info": {
   "codemirror_mode": {
    "name": "ipython",
    "version": 3
   },
   "file_extension": ".py",
   "mimetype": "text/x-python",
   "name": "python",
   "nbconvert_exporter": "python",
   "pygments_lexer": "ipython3",
   "version": "3.7.3"
  },
  "pycharm": {
   "stem_cell": {
    "cell_type": "raw",
    "source": [],
    "metadata": {
     "collapsed": false
    }
   }
  }
 },
 "nbformat": 4,
 "nbformat_minor": 1
}